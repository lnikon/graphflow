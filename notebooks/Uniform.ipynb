{
 "cells": [
  {
   "cell_type": "code",
   "execution_count": 46,
   "id": "4029c12c-dd7c-4eb3-becf-36d3ce9be53d",
   "metadata": {},
   "outputs": [],
   "source": [
    "import networkx as nx\n",
    "from networkx.algorithms import community, bipartite\n",
    "import matplotlib.pyplot as plt\n",
    "%matplotlib inline"
   ]
  },
  {
   "cell_type": "code",
   "execution_count": 47,
   "id": "ca5d4c05-a47a-4fe6-bd83-f85954a39dbd",
   "metadata": {},
   "outputs": [],
   "source": [
    "knodel_edgelist_path = '../build/exported-knodel-edges-after-push.txt'"
   ]
  },
  {
   "cell_type": "code",
   "execution_count": 75,
   "id": "7dc91612-a96c-4bd1-9f3a-784aa4f2be00",
   "metadata": {},
   "outputs": [],
   "source": [
    "# G = nx.read_edgelist(knodel_edgelist_path)\n",
    "G = nx.Graph()\n",
    "G.add_nodes_from(list(range(1, 8)), bipartite=0)\n",
    "G.add_nodes_from(list(range(8, 18)), bipartite=1)\n",
    "G = nx.read_edgelist(knodel_edgelist_path)"
   ]
  },
  {
   "cell_type": "code",
   "execution_count": 76,
   "id": "8113dd5b-1c44-4457-85f2-4263a320d435",
   "metadata": {},
   "outputs": [
    {
     "data": {
      "text/plain": [
       "['0', '4', '5', '7', '1', '6', '2', '3']"
      ]
     },
     "execution_count": 76,
     "metadata": {},
     "output_type": "execute_result"
    }
   ],
   "source": [
    "list(G.nodes)"
   ]
  },
  {
   "cell_type": "code",
   "execution_count": 77,
   "id": "106e5369-a00d-430e-800c-290a9cb4e898",
   "metadata": {},
   "outputs": [
    {
     "data": {
      "text/plain": [
       "[('0', '4'),\n",
       " ('0', '5'),\n",
       " ('0', '7'),\n",
       " ('4', '1'),\n",
       " ('4', '3'),\n",
       " ('4', '5'),\n",
       " ('4', '7'),\n",
       " ('5', '1'),\n",
       " ('5', '2'),\n",
       " ('5', '6'),\n",
       " ('7', '2'),\n",
       " ('7', '3'),\n",
       " ('7', '6'),\n",
       " ('1', '6'),\n",
       " ('6', '2'),\n",
       " ('6', '3')]"
      ]
     },
     "execution_count": 77,
     "metadata": {},
     "output_type": "execute_result"
    }
   ],
   "source": [
    "list(G.edges)"
   ]
  },
  {
   "cell_type": "code",
   "execution_count": 78,
   "id": "19438f21-1887-466b-a5d6-9ba5cd8c3ed4",
   "metadata": {},
   "outputs": [
    {
     "data": {
      "text/plain": [
       "False"
      ]
     },
     "execution_count": 78,
     "metadata": {},
     "output_type": "execute_result"
    }
   ],
   "source": [
    "nx.is_bipartite(G)"
   ]
  },
  {
   "cell_type": "code",
   "execution_count": 79,
   "id": "a9800f68-16e7-498d-b974-8b726a39b9f7",
   "metadata": {},
   "outputs": [
    {
     "ename": "NetworkXError",
     "evalue": "Graph is not bipartite.",
     "output_type": "error",
     "traceback": [
      "\u001b[0;31m---------------------------------------------------------------------------\u001b[0m",
      "\u001b[0;31mNetworkXError\u001b[0m                             Traceback (most recent call last)",
      "Cell \u001b[0;32mIn [79], line 1\u001b[0m\n\u001b[0;32m----> 1\u001b[0m bottom_nodes, top_nodes \u001b[38;5;241m=\u001b[39m \u001b[43mbipartite\u001b[49m\u001b[38;5;241;43m.\u001b[39;49m\u001b[43msets\u001b[49m\u001b[43m(\u001b[49m\u001b[43mG\u001b[49m\u001b[43m)\u001b[49m\n",
      "File \u001b[0;32m~/projects/phd/knodel-graphs/notebooks/venv/lib/python3.10/site-packages/networkx/algorithms/bipartite/basic.py:214\u001b[0m, in \u001b[0;36msets\u001b[0;34m(G, top_nodes)\u001b[0m\n\u001b[1;32m    212\u001b[0m     msg \u001b[38;5;241m=\u001b[39m \u001b[38;5;124m\"\u001b[39m\u001b[38;5;124mDisconnected graph: Ambiguous solution for bipartite sets.\u001b[39m\u001b[38;5;124m\"\u001b[39m\n\u001b[1;32m    213\u001b[0m     \u001b[38;5;28;01mraise\u001b[39;00m nx\u001b[38;5;241m.\u001b[39mAmbiguousSolution(msg)\n\u001b[0;32m--> 214\u001b[0m c \u001b[38;5;241m=\u001b[39m \u001b[43mcolor\u001b[49m\u001b[43m(\u001b[49m\u001b[43mG\u001b[49m\u001b[43m)\u001b[49m\n\u001b[1;32m    215\u001b[0m X \u001b[38;5;241m=\u001b[39m {n \u001b[38;5;28;01mfor\u001b[39;00m n, is_top \u001b[38;5;129;01min\u001b[39;00m c\u001b[38;5;241m.\u001b[39mitems() \u001b[38;5;28;01mif\u001b[39;00m is_top}\n\u001b[1;32m    216\u001b[0m Y \u001b[38;5;241m=\u001b[39m {n \u001b[38;5;28;01mfor\u001b[39;00m n, is_top \u001b[38;5;129;01min\u001b[39;00m c\u001b[38;5;241m.\u001b[39mitems() \u001b[38;5;28;01mif\u001b[39;00m \u001b[38;5;129;01mnot\u001b[39;00m is_top}\n",
      "File \u001b[0;32m~/projects/phd/knodel-graphs/notebooks/venv/lib/python3.10/site-packages/networkx/algorithms/bipartite/basic.py:76\u001b[0m, in \u001b[0;36mcolor\u001b[0;34m(G)\u001b[0m\n\u001b[1;32m     74\u001b[0m \u001b[38;5;28;01mif\u001b[39;00m w \u001b[38;5;129;01min\u001b[39;00m color:\n\u001b[1;32m     75\u001b[0m     \u001b[38;5;28;01mif\u001b[39;00m color[w] \u001b[38;5;241m==\u001b[39m color[v]:\n\u001b[0;32m---> 76\u001b[0m         \u001b[38;5;28;01mraise\u001b[39;00m nx\u001b[38;5;241m.\u001b[39mNetworkXError(\u001b[38;5;124m\"\u001b[39m\u001b[38;5;124mGraph is not bipartite.\u001b[39m\u001b[38;5;124m\"\u001b[39m)\n\u001b[1;32m     77\u001b[0m \u001b[38;5;28;01melse\u001b[39;00m:\n\u001b[1;32m     78\u001b[0m     color[w] \u001b[38;5;241m=\u001b[39m c\n",
      "\u001b[0;31mNetworkXError\u001b[0m: Graph is not bipartite."
     ]
    }
   ],
   "source": [
    "bottom_nodes, top_nodes = bipartite.sets(G)"
   ]
  },
  {
   "cell_type": "code",
   "execution_count": 74,
   "id": "48df4b74-3dcb-4afb-ba2b-6f46c82a21f8",
   "metadata": {},
   "outputs": [
    {
     "data": {
      "image/png": "[encoded data removed]",
      "text/plain": [
       "<Figure size 600x600 with 1 Axes>"
      ]
     },
     "metadata": {},
     "output_type": "display_data"
    }
   ],
   "source": [
    "fig = plt.figure(figsize=(6,6))\n",
    "pos = nx.bipartite_layout(G, top_nodes)\n",
    "nx.draw(G, pos=pos, with_labels=True) "
   ]
  },
  {
   "cell_type": "code",
   "execution_count": null,
   "id": "922b5722-bfa1-4531-864a-726adcfaf218",
   "metadata": {},
   "outputs": [],
   "source": []
  }
 ],
 "metadata": {
  "kernelspec": {
   "display_name": "Python 3 (ipykernel)",
   "language": "python",
   "name": "python3"
  },
  "language_info": {
   "codemirror_mode": {
    "name": "ipython",
    "version": 3
   },
   "file_extension": ".py",
   "mimetype": "text/x-python",
   "name": "python",
   "nbconvert_exporter": "python",
   "pygments_lexer": "ipython3",
   "version": "3.10.8"
  }
 },
 "nbformat": 4,
 "nbformat_minor": 5
}
